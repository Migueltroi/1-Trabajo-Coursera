{
 "cells": [
  {
   "cell_type": "markdown",
   "metadata": {
    "id": "9c5e64dc-2bc7-4640-9b71-877eda7b6100"
   },
   "source": [
    "<center>\n",
    "    <img src=\"https://cf-courses-data.s3.us.cloud-object-storage.appdomain.cloud/IBMDeveloperSkillsNetwork-DS0105EN-SkillsNetwork/labs/Module2/images/SN_web_lightmode.png\" width=\"300\" alt=\"cognitiveclass.ai logo\">\n",
    "</center>\n"
   ]
  },
  {
   "cell_type": "markdown",
   "metadata": {
    "id": "IXy6FbG-OAnB"
   },
   "source": [
    "# Data Science Tools and Ecosystem"
   ]
  },
  {
   "cell_type": "markdown",
   "metadata": {
    "id": "fXYyLLb6OZ65"
   },
   "source": [
    "In this notebook, Data Science Tools and Ecosystem are summarized."
   ]
  },
  {
   "cell_type": "markdown",
   "metadata": {
    "id": "j6GG3RxhYC62"
   },
   "source": [
    "**Objectives:**\n",
    "\n",
    "*   Use diffrent styles heading in markdown.\n",
    "*   Create ordered lists in markdown.\n",
    "*   Create unordered lists in markdown.\n",
    "*   Make tables in markdown.\n",
    "*   Learn to evaluate arithmetic expressions in Python.\n",
    "\n"
   ]
  },
  {
   "cell_type": "markdown",
   "metadata": {
    "id": "bPJpMZMbZT6x"
   },
   "source": [
    "## Author:\n",
    "Miguel Troitiño Cachafeiro."
   ]
  },
  {
   "cell_type": "markdown",
   "metadata": {
    "id": "Mw13psBrOdiN"
   },
   "source": [
    "Some of the popular languages that Data Scientists use are:\n",
    "\n",
    "\n",
    "1.   Python\n",
    "2.   R\n",
    "3.   SQL\n",
    "\n"
   ]
  },
  {
   "cell_type": "markdown",
   "metadata": {
    "id": "mUZj5qujPWZt"
   },
   "source": [
    "Some of the commonly used libraries used by Data Scientists include:\n",
    "\n",
    "\n",
    "\n",
    "*   Pandas\n",
    "*   NumPy\n",
    "*   Scikit-learn\n",
    "\n",
    "\n",
    "\n"
   ]
  },
  {
   "cell_type": "markdown",
   "metadata": {
    "id": "ssXjuoafP4ed"
   },
   "source": [
    "| Data Science Tools |\n",
    "| -------------      |\n",
    "| Jupyter Notebook   |\n",
    "| Apache Spark       |\n",
    "| Visual Studio Code |\n"
   ]
  },
  {
   "cell_type": "markdown",
   "metadata": {
    "id": "DtjaZI3aR-na"
   },
   "source": [
    "### Below are a few examples of evaluating arithmetic expressions in Python"
   ]
  },
  {
   "cell_type": "code",
   "execution_count": 1,
   "metadata": {
    "colab": {
     "base_uri": "https://localhost:8080/"
    },
    "id": "coVUQndSSWeJ",
    "outputId": "5c043d9d-d420-4fea-a070-b464c20e6745"
   },
   "outputs": [
    {
     "data": {
      "text/plain": [
       "17"
      ]
     },
     "execution_count": 1,
     "metadata": {},
     "output_type": "execute_result"
    }
   ],
   "source": [
    "# This a simple arithmetic expression to mutiply then add integers:\n",
    "(3*4)+5"
   ]
  },
  {
   "cell_type": "code",
   "execution_count": 2,
   "metadata": {
    "colab": {
     "base_uri": "https://localhost:8080/"
    },
    "id": "wsLjATwPSihd",
    "outputId": "0926b61b-f666-496c-b54b-87ccec5af5a4"
   },
   "outputs": [
    {
     "name": "stdout",
     "output_type": "stream",
     "text": [
      "200 minutes are 3 hours and 20 minutes, or just 3.33 hours.\n"
     ]
    }
   ],
   "source": [
    "# This will convert 200 minutes to hours by diving by 60:\n",
    "Hour=int(200/60)\n",
    "Minutes=200-60*Hour\n",
    "Hours=200/60\n",
    "\n",
    "print(\"200 minutes are {} hours and {} minutes, or just {:.2f} hours.\". format(Hour,Minutes,Hours))"
   ]
  },
  {
   "cell_type": "markdown",
   "metadata": {
    "id": "b5f467ed-efe7-45ac-a08b-b2d48c26ba81"
   },
   "source": [
    "Copyright ©2024 IBM Corporation. All rights reserved.\n"
   ]
  }
 ],
 "metadata": {
  "colab": {
   "provenance": []
  },
  "kernelspec": {
   "display_name": "Python 3",
   "language": "python",
   "name": "python3"
  },
  "language_info": {
   "codemirror_mode": {
    "name": "ipython",
    "version": 3
   },
   "file_extension": ".py",
   "mimetype": "text/x-python",
   "name": "python",
   "nbconvert_exporter": "python",
   "pygments_lexer": "ipython3",
   "version": "3.7.3"
  },
  "prev_pub_hash": "9e1985db9844176462bd1d5863048c9f3d17404bbc6a648be9084b0c42b29347"
 },
 "nbformat": 4,
 "nbformat_minor": 1
}
